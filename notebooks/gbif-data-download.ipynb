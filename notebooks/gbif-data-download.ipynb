{
 "cells": [
  {
   "cell_type": "markdown",
   "id": "5e68a2db",
   "metadata": {},
   "source": [
    "### Steps for downloading GBIF data for another species for your portfolio post\n",
    "\n",
    "#### Step 1: choose a terrestrial species that migrates (and find its scientific/Latin name)\n",
    "\n",
    "#### Step 2: make an account on [gbif.org](<https://www.gbif.org/)>)\n",
    "\n",
    "#### Step 3: Install the pygbif package in your python environment\n",
    "\n",
    "If you're on a Mac, just run this code chunk:"
   ]
  },
  {
   "cell_type": "code",
   "execution_count": null,
   "id": "fb367f5f",
   "metadata": {},
   "outputs": [
    {
     "name": "stderr",
     "output_type": "stream",
     "text": [
      "UsageError: Cell magic `%%` not found.\n"
     ]
    }
   ],
   "source": [
    "# PC specific install required\n",
    "# pip install pygbif\n",
    "\n",
    "#%% bash\n",
    "#pip install pygbif"
   ]
  },
  {
   "cell_type": "markdown",
   "id": "e177dfe5",
   "metadata": {},
   "source": [
    "If you're on a PC, open Git Bash in the Terminal at the bottom of the Jupyter notebook, and enter this: \n",
    "\n",
    "`pip install pygbif`"
   ]
  },
  {
   "cell_type": "markdown",
   "id": "2aef0dbb",
   "metadata": {},
   "source": [
    "#### Step 4: load the packages you'll need"
   ]
  },
  {
   "cell_type": "code",
   "execution_count": 21,
   "id": "f3b77a0c",
   "metadata": {},
   "outputs": [],
   "source": [
    "import pathlib\n",
    "import os\n",
    "import pygbif.occurrences as occ\n",
    "import pygbif.species as species\n",
    "from getpass import getpass\n",
    "from glob import glob\n",
    "import time\n",
    "import zipfile"
   ]
  },
  {
   "cell_type": "markdown",
   "id": "07772f54",
   "metadata": {},
   "source": [
    "#### Step 5: make a folder for your GBIF data\n",
    "You'll need to modify this code to match your folder structure:"
   ]
  },
  {
   "cell_type": "code",
   "execution_count": 2,
   "id": "192ff4c1",
   "metadata": {},
   "outputs": [],
   "source": [
    "### create data directory\n",
    "pluv_dir = os.path.join(\n",
    "\n",
    "    ### home directory\n",
    "    pathlib.Path.home(),\n",
    "\n",
    "    ### data directory within migration git repository\n",
    "    'Documents',\n",
    "    'Earth Data Cert',\n",
    "    'Earth-Analytics-AY25',\n",
    "    'GitRepos',\n",
    "    '03-migration-natshoff',\n",
    "    'data')\n",
    "\n",
    "### make the directory\n",
    "os.makedirs(pluv_dir, exist_ok = True)\n",
    "\n",
    "### define directory for the American Golden Plover gbif data\n",
    "gbif_dir = os.path.join(pluv_dir, 'pluvialisDominica_gbif')\n",
    "\n",
    "### make the directory\n",
    "os.makedirs(gbif_dir, exist_ok = True)"
   ]
  },
  {
   "cell_type": "markdown",
   "id": "43ca47a3",
   "metadata": {},
   "source": [
    "#### Step 6: link GBIF to your Jupyter notebook\n",
    "- Change to `reset = True` the first time you run it. When you run it, you'll be prompted to enter your GBIF username, password, and associated email address\n",
    "- Then change it back to `reset = False` so you can re-run the chunk without having to reconnect to GBIF\n",
    "- You don’t need to modify this code chunk in any other way\n"
   ]
  },
  {
   "cell_type": "code",
   "execution_count": null,
   "id": "d86887c7",
   "metadata": {},
   "outputs": [],
   "source": [
    "####--------------------------####\n",
    "#### DO NOT MODIFY THIS CODE! ####\n",
    "####--------------------------####\n",
    "# This code ASKS for your credentials \n",
    "# and saves it for the rest of the session.\n",
    "# NEVER put your credentials into your code!!!!\n",
    "\n",
    "# GBIF needs a username, password, and email \n",
    "# All 3 need to match the account\n",
    "reset = False\n",
    "\n",
    "# Request and store username\n",
    "if (not ('GBIF_USER'  in os.environ)) or reset:\n",
    "    os.environ['GBIF_USER'] = input('GBIF username:')\n",
    "\n",
    "# Securely request and store password\n",
    "if (not ('GBIF_PWD'  in os.environ)) or reset:\n",
    "    os.environ['GBIF_PWD'] = getpass('GBIF password:')\n",
    "    \n",
    "# Request and store account email address\n",
    "if (not ('GBIF_EMAIL'  in os.environ)) or reset:\n",
    "    os.environ['GBIF_EMAIL'] = input('GBIF email:')"
   ]
  },
  {
   "cell_type": "markdown",
   "id": "3ba6fd5b",
   "metadata": {},
   "source": [
    "#### Step 7: Get the species key for your species from GBIF using the `name_backbone` command\n",
    "You'll need to modify this code with the scientific name of your species"
   ]
  },
  {
   "cell_type": "code",
   "execution_count": 15,
   "id": "f9e1b0f5",
   "metadata": {},
   "outputs": [
    {
     "name": "stdout",
     "output_type": "stream",
     "text": [
      "{'usageKey': 2480328, 'scientificName': 'Pluvialis dominica (P.L.S.Müller, 1776)', 'canonicalName': 'Pluvialis dominica', 'rank': 'SPECIES', 'status': 'ACCEPTED', 'confidence': 99, 'matchType': 'EXACT', 'kingdom': 'Animalia', 'phylum': 'Chordata', 'order': 'Charadriiformes', 'family': 'Charadriidae', 'genus': 'Pluvialis', 'species': 'Pluvialis dominica', 'kingdomKey': 1, 'phylumKey': 44, 'classKey': 212, 'orderKey': 7192402, 'familyKey': 2480210, 'genusKey': 2480326, 'speciesKey': 2480328, 'class': 'Aves'}\n",
      "Usage key: 2480328\n"
     ]
    }
   ],
   "source": [
    "### grab the species info\n",
    "backbone = species.name_backbone(name = 'Pluvialis dominica')\n",
    "\n",
    "### check it out\n",
    "print(backbone)\n",
    "\n",
    "### pull out the species key\n",
    "species_key = backbone['usageKey']\n",
    "\n",
    "### check it out\n",
    "print(\"Usage key:\", species_key)"
   ]
  },
  {
   "cell_type": "markdown",
   "id": "032e677e",
   "metadata": {},
   "source": [
    "#### Step 8: Run this code to download the GBIF data once\n",
    "It might take several minutes for the data to download\n",
    "\n",
    "Modify this code to update the year if you want data for a different year, and to use the correct data_dir for your file structure (my code says \"gbif_dir\")"
   ]
  },
  {
   "cell_type": "code",
   "execution_count": 22,
   "id": "0cc354ce",
   "metadata": {},
   "outputs": [
    {
     "name": "stderr",
     "output_type": "stream",
     "text": [
      "INFO:Download file size: 1817263 bytes\n",
      "INFO:On disk at C:\\Users\\naho5798\\Documents\\Earth Data Cert\\Earth-Analytics-AY25\\GitRepos\\03-migration-natshoff\\data\\pluvialisDominica_gbif/0006747-251025141854904.zip\n"
     ]
    }
   ],
   "source": [
    "# Only download once\n",
    "### set file name for download\n",
    "gbif_pattern = os.path.join(gbif_dir, '*.csv')\n",
    "\n",
    "### double check that there isn't already a file that matches this pattern.\n",
    "### if it already exists, skip the whole conditional\n",
    "### and go straight to the line: gbif_path = glob(gbif_pattern)[0]\n",
    "if not glob(gbif_pattern):\n",
    "\n",
    "    ### only submit a download request to GBIF once\n",
    "    ### if GBIF_DOWNLOAD_KEY is not defined in our environment, make the download request\n",
    "    if not 'GBIF_DOWNLOAD_KEY' in os.environ:\n",
    "\n",
    "        ### submit a query to GBIF\n",
    "        gbif_query = occ.download([\n",
    "\n",
    "            ### add your species key here\n",
    "            f\"speciesKey = {species_key}\",\n",
    "\n",
    "            ### filter out results that are missing coordinates\n",
    "            \"hasCoordinate = True\",\n",
    "\n",
    "            ### choose a year to include\n",
    "            \"year = 2023\",\n",
    "        ])\n",
    "        os.environ['GBIF_DOWNLOAD_KEY'] = gbif_query[0]\n",
    "\n",
    "    # Wait for the download to build\n",
    "    download_key = os.environ['GBIF_DOWNLOAD_KEY']\n",
    "\n",
    "    ### use the occurrence command module in pygbif to get the metadata\n",
    "    wait = occ.download_meta(download_key)['status']\n",
    "\n",
    "    ### check if the status of the download = \"SUCCEEDED\"\n",
    "    ### wait and loop through until it finishes\n",
    "    while not wait=='SUCCEEDED':\n",
    "        wait = occ.download_meta(download_key)['status']\n",
    "\n",
    "        ### don't want to re-query the API in the loop too frequently\n",
    "        time.sleep(5)\n",
    "\n",
    "    # Download GBIF data when it's ready\n",
    "    download_info = occ.download_get(\n",
    "        os.environ['GBIF_DOWNLOAD_KEY'], \n",
    "        path=gbif_dir)\n",
    "\n",
    "    # Unzip GBIF data using the zipfile package\n",
    "    with zipfile.ZipFile(download_info['path']) as download_zip:\n",
    "        download_zip.extractall(path=gbif_dir)\n",
    "\n",
    "# Find the extracted .csv file path (take the first result)\n",
    "gbif_path = glob(gbif_pattern)[0]"
   ]
  },
  {
   "cell_type": "markdown",
   "id": "18ad68e7",
   "metadata": {},
   "source": [
    "The GBIF occurrence data should now be in a folder on your computer, saved as a .csv file. You can open it using the code structure we've used before to open .csv files using pandas."
   ]
  }
 ],
 "metadata": {
  "kernelspec": {
   "display_name": "earth-analytics-python",
   "language": "python",
   "name": "python3"
  },
  "language_info": {
   "codemirror_mode": {
    "name": "ipython",
    "version": 3
   },
   "file_extension": ".py",
   "mimetype": "text/x-python",
   "name": "python",
   "nbconvert_exporter": "python",
   "pygments_lexer": "ipython3",
   "version": "3.11.13"
  }
 },
 "nbformat": 4,
 "nbformat_minor": 5
}
